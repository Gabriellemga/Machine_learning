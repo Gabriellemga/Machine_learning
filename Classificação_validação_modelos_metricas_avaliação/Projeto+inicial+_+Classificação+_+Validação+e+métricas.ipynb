{
  "nbformat": 4,
  "nbformat_minor": 0,
  "metadata": {
    "colab": {
      "provenance": [],
      "include_colab_link": true
    },
    "kernelspec": {
      "name": "python3",
      "display_name": "Python 3"
    },
    "language_info": {
      "name": "python"
    }
  },
  "cells": [
    {
      "cell_type": "markdown",
      "metadata": {
        "id": "view-in-github",
        "colab_type": "text"
      },
      "source": [
        "<a href=\"https://colab.research.google.com/github/Gabriellemga/Machine_learning/blob/main/Classifica%C3%A7%C3%A3o_valida%C3%A7%C3%A3o_modelos_metricas_avalia%C3%A7%C3%A3o/Projeto%2Binicial%2B_%2BClassifica%C3%A7%C3%A3o%2B_%2BValida%C3%A7%C3%A3o%2Be%2Bm%C3%A9tricas.ipynb\" target=\"_parent\"><img src=\"https://colab.research.google.com/assets/colab-badge.svg\" alt=\"Open In Colab\"/></a>"
      ]
    },
    {
      "cell_type": "markdown",
      "source": [
        "# **Classificação: Validação de modelos e métricas de avaliação**"
      ],
      "metadata": {
        "id": "MCqTDybk4ShK"
      }
    },
    {
      "cell_type": "markdown",
      "source": [
        "### Projeto\n",
        "\n",
        "Uma empresa de empréstimo de automóveis está passando por uma situação complicada, com alta demanda para uma frota reduzida de veículos e alto número de inadimplentes, trazendo um prejuízo grande para a empresa.\n",
        "\n",
        "Nós fomos contratados para buscar melhorias na identificação de inadimplentes. A análise dos clientes atualmente é feita de forma manual, cliente por cliente, tomando muito tempo e ainda assim a detecção de inadimplentes é muito imprecisa.\n",
        "\n",
        "Nossa tarefa é utilizar os dados fornecidos pela empresa para **classificar** os clientes em adimplentes e inadimplentes."
      ],
      "metadata": {
        "id": "WscU3KG7a9No"
      }
    },
    {
      "cell_type": "markdown",
      "source": [
        "## Classificando dados"
      ],
      "metadata": {
        "id": "WgS8iF51Csrn"
      }
    },
    {
      "cell_type": "markdown",
      "source": [
        "### Criando um modelo inicial"
      ],
      "metadata": {
        "id": "6lExmBuKn-xe"
      }
    },
    {
      "cell_type": "code",
      "execution_count": 13,
      "metadata": {
        "id": "ZP9giPwL7Qvz"
      },
      "outputs": [],
      "source": [
        "import pandas as pd"
      ]
    },
    {
      "cell_type": "code",
      "source": [
        "dados = pd.read_csv('/content/emp_automovel.csv')\n",
        "dados.head()"
      ],
      "metadata": {
        "id": "w1MaIGaj7UZL",
        "colab": {
          "base_uri": "https://localhost:8080/",
          "height": 206
        },
        "outputId": "fbf3c6fe-e43c-4d6d-b072-303584d61020"
      },
      "execution_count": 14,
      "outputs": [
        {
          "output_type": "execute_result",
          "data": {
            "text/plain": [
              "   receita_cliente  anuidade_emprestimo  ...  troca_telefone  inadimplente\n",
              "0          12600.0          3569.400000  ...          2545.0             0\n",
              "1           9000.0          2722.188351  ...           495.0             0\n",
              "2          15750.0          4477.500000  ...          1212.0             0\n",
              "3           9000.0          1309.050000  ...           515.0             0\n",
              "4           7650.0          1125.000000  ...           162.0             0\n",
              "\n",
              "[5 rows x 11 columns]"
            ],
            "text/html": [
              "\n",
              "  <div id=\"df-7ca193f7-0394-4b79-bfa1-82b793d5d075\" class=\"colab-df-container\">\n",
              "    <div>\n",
              "<style scoped>\n",
              "    .dataframe tbody tr th:only-of-type {\n",
              "        vertical-align: middle;\n",
              "    }\n",
              "\n",
              "    .dataframe tbody tr th {\n",
              "        vertical-align: top;\n",
              "    }\n",
              "\n",
              "    .dataframe thead th {\n",
              "        text-align: right;\n",
              "    }\n",
              "</style>\n",
              "<table border=\"1\" class=\"dataframe\">\n",
              "  <thead>\n",
              "    <tr style=\"text-align: right;\">\n",
              "      <th></th>\n",
              "      <th>receita_cliente</th>\n",
              "      <th>anuidade_emprestimo</th>\n",
              "      <th>anos_casa_propria</th>\n",
              "      <th>telefone_trab</th>\n",
              "      <th>avaliacao_cidade</th>\n",
              "      <th>score_1</th>\n",
              "      <th>score_2</th>\n",
              "      <th>score_3</th>\n",
              "      <th>score_social</th>\n",
              "      <th>troca_telefone</th>\n",
              "      <th>inadimplente</th>\n",
              "    </tr>\n",
              "  </thead>\n",
              "  <tbody>\n",
              "    <tr>\n",
              "      <th>0</th>\n",
              "      <td>12600.0</td>\n",
              "      <td>3569.400000</td>\n",
              "      <td>12.157324</td>\n",
              "      <td>1</td>\n",
              "      <td>2.0</td>\n",
              "      <td>0.057153</td>\n",
              "      <td>0.527227</td>\n",
              "      <td>0.513171</td>\n",
              "      <td>0.117428</td>\n",
              "      <td>2545.0</td>\n",
              "      <td>0</td>\n",
              "    </tr>\n",
              "    <tr>\n",
              "      <th>1</th>\n",
              "      <td>9000.0</td>\n",
              "      <td>2722.188351</td>\n",
              "      <td>7.000000</td>\n",
              "      <td>0</td>\n",
              "      <td>2.0</td>\n",
              "      <td>0.657661</td>\n",
              "      <td>0.285898</td>\n",
              "      <td>0.614414</td>\n",
              "      <td>0.222700</td>\n",
              "      <td>495.0</td>\n",
              "      <td>0</td>\n",
              "    </tr>\n",
              "    <tr>\n",
              "      <th>2</th>\n",
              "      <td>15750.0</td>\n",
              "      <td>4477.500000</td>\n",
              "      <td>12.000000</td>\n",
              "      <td>0</td>\n",
              "      <td>2.0</td>\n",
              "      <td>0.501213</td>\n",
              "      <td>0.695423</td>\n",
              "      <td>0.513171</td>\n",
              "      <td>0.117428</td>\n",
              "      <td>1212.0</td>\n",
              "      <td>0</td>\n",
              "    </tr>\n",
              "    <tr>\n",
              "      <th>3</th>\n",
              "      <td>9000.0</td>\n",
              "      <td>1309.050000</td>\n",
              "      <td>12.157324</td>\n",
              "      <td>0</td>\n",
              "      <td>3.0</td>\n",
              "      <td>0.501213</td>\n",
              "      <td>0.155973</td>\n",
              "      <td>0.513171</td>\n",
              "      <td>0.117428</td>\n",
              "      <td>515.0</td>\n",
              "      <td>0</td>\n",
              "    </tr>\n",
              "    <tr>\n",
              "      <th>4</th>\n",
              "      <td>7650.0</td>\n",
              "      <td>1125.000000</td>\n",
              "      <td>12.157324</td>\n",
              "      <td>0</td>\n",
              "      <td>2.0</td>\n",
              "      <td>0.294328</td>\n",
              "      <td>0.152076</td>\n",
              "      <td>0.513171</td>\n",
              "      <td>0.117428</td>\n",
              "      <td>162.0</td>\n",
              "      <td>0</td>\n",
              "    </tr>\n",
              "  </tbody>\n",
              "</table>\n",
              "</div>\n",
              "    <div class=\"colab-df-buttons\">\n",
              "\n",
              "  <div class=\"colab-df-container\">\n",
              "    <button class=\"colab-df-convert\" onclick=\"convertToInteractive('df-7ca193f7-0394-4b79-bfa1-82b793d5d075')\"\n",
              "            title=\"Convert this dataframe to an interactive table.\"\n",
              "            style=\"display:none;\">\n",
              "\n",
              "  <svg xmlns=\"http://www.w3.org/2000/svg\" height=\"24px\" viewBox=\"0 -960 960 960\">\n",
              "    <path d=\"M120-120v-720h720v720H120Zm60-500h600v-160H180v160Zm220 220h160v-160H400v160Zm0 220h160v-160H400v160ZM180-400h160v-160H180v160Zm440 0h160v-160H620v160ZM180-180h160v-160H180v160Zm440 0h160v-160H620v160Z\"/>\n",
              "  </svg>\n",
              "    </button>\n",
              "\n",
              "  <style>\n",
              "    .colab-df-container {\n",
              "      display:flex;\n",
              "      gap: 12px;\n",
              "    }\n",
              "\n",
              "    .colab-df-convert {\n",
              "      background-color: #E8F0FE;\n",
              "      border: none;\n",
              "      border-radius: 50%;\n",
              "      cursor: pointer;\n",
              "      display: none;\n",
              "      fill: #1967D2;\n",
              "      height: 32px;\n",
              "      padding: 0 0 0 0;\n",
              "      width: 32px;\n",
              "    }\n",
              "\n",
              "    .colab-df-convert:hover {\n",
              "      background-color: #E2EBFA;\n",
              "      box-shadow: 0px 1px 2px rgba(60, 64, 67, 0.3), 0px 1px 3px 1px rgba(60, 64, 67, 0.15);\n",
              "      fill: #174EA6;\n",
              "    }\n",
              "\n",
              "    .colab-df-buttons div {\n",
              "      margin-bottom: 4px;\n",
              "    }\n",
              "\n",
              "    [theme=dark] .colab-df-convert {\n",
              "      background-color: #3B4455;\n",
              "      fill: #D2E3FC;\n",
              "    }\n",
              "\n",
              "    [theme=dark] .colab-df-convert:hover {\n",
              "      background-color: #434B5C;\n",
              "      box-shadow: 0px 1px 3px 1px rgba(0, 0, 0, 0.15);\n",
              "      filter: drop-shadow(0px 1px 2px rgba(0, 0, 0, 0.3));\n",
              "      fill: #FFFFFF;\n",
              "    }\n",
              "  </style>\n",
              "\n",
              "    <script>\n",
              "      const buttonEl =\n",
              "        document.querySelector('#df-7ca193f7-0394-4b79-bfa1-82b793d5d075 button.colab-df-convert');\n",
              "      buttonEl.style.display =\n",
              "        google.colab.kernel.accessAllowed ? 'block' : 'none';\n",
              "\n",
              "      async function convertToInteractive(key) {\n",
              "        const element = document.querySelector('#df-7ca193f7-0394-4b79-bfa1-82b793d5d075');\n",
              "        const dataTable =\n",
              "          await google.colab.kernel.invokeFunction('convertToInteractive',\n",
              "                                                    [key], {});\n",
              "        if (!dataTable) return;\n",
              "\n",
              "        const docLinkHtml = 'Like what you see? Visit the ' +\n",
              "          '<a target=\"_blank\" href=https://colab.research.google.com/notebooks/data_table.ipynb>data table notebook</a>'\n",
              "          + ' to learn more about interactive tables.';\n",
              "        element.innerHTML = '';\n",
              "        dataTable['output_type'] = 'display_data';\n",
              "        await google.colab.output.renderOutput(dataTable, element);\n",
              "        const docLink = document.createElement('div');\n",
              "        docLink.innerHTML = docLinkHtml;\n",
              "        element.appendChild(docLink);\n",
              "      }\n",
              "    </script>\n",
              "  </div>\n",
              "\n",
              "\n",
              "    <div id=\"df-bc61564b-202e-4bdc-96ad-16a8d21ec30e\">\n",
              "      <button class=\"colab-df-quickchart\" onclick=\"quickchart('df-bc61564b-202e-4bdc-96ad-16a8d21ec30e')\"\n",
              "                title=\"Suggest charts\"\n",
              "                style=\"display:none;\">\n",
              "\n",
              "<svg xmlns=\"http://www.w3.org/2000/svg\" height=\"24px\"viewBox=\"0 0 24 24\"\n",
              "     width=\"24px\">\n",
              "    <g>\n",
              "        <path d=\"M19 3H5c-1.1 0-2 .9-2 2v14c0 1.1.9 2 2 2h14c1.1 0 2-.9 2-2V5c0-1.1-.9-2-2-2zM9 17H7v-7h2v7zm4 0h-2V7h2v10zm4 0h-2v-4h2v4z\"/>\n",
              "    </g>\n",
              "</svg>\n",
              "      </button>\n",
              "\n",
              "<style>\n",
              "  .colab-df-quickchart {\n",
              "      --bg-color: #E8F0FE;\n",
              "      --fill-color: #1967D2;\n",
              "      --hover-bg-color: #E2EBFA;\n",
              "      --hover-fill-color: #174EA6;\n",
              "      --disabled-fill-color: #AAA;\n",
              "      --disabled-bg-color: #DDD;\n",
              "  }\n",
              "\n",
              "  [theme=dark] .colab-df-quickchart {\n",
              "      --bg-color: #3B4455;\n",
              "      --fill-color: #D2E3FC;\n",
              "      --hover-bg-color: #434B5C;\n",
              "      --hover-fill-color: #FFFFFF;\n",
              "      --disabled-bg-color: #3B4455;\n",
              "      --disabled-fill-color: #666;\n",
              "  }\n",
              "\n",
              "  .colab-df-quickchart {\n",
              "    background-color: var(--bg-color);\n",
              "    border: none;\n",
              "    border-radius: 50%;\n",
              "    cursor: pointer;\n",
              "    display: none;\n",
              "    fill: var(--fill-color);\n",
              "    height: 32px;\n",
              "    padding: 0;\n",
              "    width: 32px;\n",
              "  }\n",
              "\n",
              "  .colab-df-quickchart:hover {\n",
              "    background-color: var(--hover-bg-color);\n",
              "    box-shadow: 0 1px 2px rgba(60, 64, 67, 0.3), 0 1px 3px 1px rgba(60, 64, 67, 0.15);\n",
              "    fill: var(--button-hover-fill-color);\n",
              "  }\n",
              "\n",
              "  .colab-df-quickchart-complete:disabled,\n",
              "  .colab-df-quickchart-complete:disabled:hover {\n",
              "    background-color: var(--disabled-bg-color);\n",
              "    fill: var(--disabled-fill-color);\n",
              "    box-shadow: none;\n",
              "  }\n",
              "\n",
              "  .colab-df-spinner {\n",
              "    border: 2px solid var(--fill-color);\n",
              "    border-color: transparent;\n",
              "    border-bottom-color: var(--fill-color);\n",
              "    animation:\n",
              "      spin 1s steps(1) infinite;\n",
              "  }\n",
              "\n",
              "  @keyframes spin {\n",
              "    0% {\n",
              "      border-color: transparent;\n",
              "      border-bottom-color: var(--fill-color);\n",
              "      border-left-color: var(--fill-color);\n",
              "    }\n",
              "    20% {\n",
              "      border-color: transparent;\n",
              "      border-left-color: var(--fill-color);\n",
              "      border-top-color: var(--fill-color);\n",
              "    }\n",
              "    30% {\n",
              "      border-color: transparent;\n",
              "      border-left-color: var(--fill-color);\n",
              "      border-top-color: var(--fill-color);\n",
              "      border-right-color: var(--fill-color);\n",
              "    }\n",
              "    40% {\n",
              "      border-color: transparent;\n",
              "      border-right-color: var(--fill-color);\n",
              "      border-top-color: var(--fill-color);\n",
              "    }\n",
              "    60% {\n",
              "      border-color: transparent;\n",
              "      border-right-color: var(--fill-color);\n",
              "    }\n",
              "    80% {\n",
              "      border-color: transparent;\n",
              "      border-right-color: var(--fill-color);\n",
              "      border-bottom-color: var(--fill-color);\n",
              "    }\n",
              "    90% {\n",
              "      border-color: transparent;\n",
              "      border-bottom-color: var(--fill-color);\n",
              "    }\n",
              "  }\n",
              "</style>\n",
              "\n",
              "      <script>\n",
              "        async function quickchart(key) {\n",
              "          const quickchartButtonEl =\n",
              "            document.querySelector('#' + key + ' button');\n",
              "          quickchartButtonEl.disabled = true;  // To prevent multiple clicks.\n",
              "          quickchartButtonEl.classList.add('colab-df-spinner');\n",
              "          try {\n",
              "            const charts = await google.colab.kernel.invokeFunction(\n",
              "                'suggestCharts', [key], {});\n",
              "          } catch (error) {\n",
              "            console.error('Error during call to suggestCharts:', error);\n",
              "          }\n",
              "          quickchartButtonEl.classList.remove('colab-df-spinner');\n",
              "          quickchartButtonEl.classList.add('colab-df-quickchart-complete');\n",
              "        }\n",
              "        (() => {\n",
              "          let quickchartButtonEl =\n",
              "            document.querySelector('#df-bc61564b-202e-4bdc-96ad-16a8d21ec30e button');\n",
              "          quickchartButtonEl.style.display =\n",
              "            google.colab.kernel.accessAllowed ? 'block' : 'none';\n",
              "        })();\n",
              "      </script>\n",
              "    </div>\n",
              "\n",
              "    </div>\n",
              "  </div>\n"
            ],
            "application/vnd.google.colaboratory.intrinsic+json": {
              "type": "dataframe",
              "variable_name": "dados",
              "summary": "{\n  \"name\": \"dados\",\n  \"rows\": 54025,\n  \"fields\": [\n    {\n      \"column\": \"receita_cliente\",\n      \"properties\": {\n        \"dtype\": \"number\",\n        \"std\": 9658.762569130264,\n        \"min\": 2700.0,\n        \"max\": 450000.0,\n        \"num_unique_values\": 663,\n        \"samples\": [\n          11018.7,\n          38520.0,\n          17796.6\n        ],\n        \"semantic_type\": \"\",\n        \"description\": \"\"\n      }\n    },\n    {\n      \"column\": \"anuidade_emprestimo\",\n      \"properties\": {\n        \"dtype\": \"number\",\n        \"std\": 1305.3647344874787,\n        \"min\": 218.7,\n        \"max\": 22500.0,\n        \"num_unique_values\": 8004,\n        \"samples\": [\n          5339.7,\n          5067.0,\n          5757.3\n        ],\n        \"semantic_type\": \"\",\n        \"description\": \"\"\n      }\n    },\n    {\n      \"column\": \"anos_casa_propria\",\n      \"properties\": {\n        \"dtype\": \"number\",\n        \"std\": 7.452120104984191,\n        \"min\": 0.0,\n        \"max\": 69.0,\n        \"num_unique_values\": 53,\n        \"samples\": [\n          11.0,\n          31.0,\n          32.0\n        ],\n        \"semantic_type\": \"\",\n        \"description\": \"\"\n      }\n    },\n    {\n      \"column\": \"telefone_trab\",\n      \"properties\": {\n        \"dtype\": \"number\",\n        \"std\": 0,\n        \"min\": 0,\n        \"max\": 1,\n        \"num_unique_values\": 2,\n        \"samples\": [\n          0,\n          1\n        ],\n        \"semantic_type\": \"\",\n        \"description\": \"\"\n      }\n    },\n    {\n      \"column\": \"avaliacao_cidade\",\n      \"properties\": {\n        \"dtype\": \"number\",\n        \"std\": 0.49880682251877845,\n        \"min\": 1.0,\n        \"max\": 3.0,\n        \"num_unique_values\": 4,\n        \"samples\": [\n          3.0,\n          2.030038427084816\n        ],\n        \"semantic_type\": \"\",\n        \"description\": \"\"\n      }\n    },\n    {\n      \"column\": \"score_1\",\n      \"properties\": {\n        \"dtype\": \"number\",\n        \"std\": 0.14238945649917853,\n        \"min\": 0.014568132,\n        \"max\": 0.942680454,\n        \"num_unique_values\": 23062,\n        \"samples\": [\n          0.475611877,\n          0.435226091\n        ],\n        \"semantic_type\": \"\",\n        \"description\": \"\"\n      }\n    },\n    {\n      \"column\": \"score_2\",\n      \"properties\": {\n        \"dtype\": \"number\",\n        \"std\": 0.8759454878096079,\n        \"min\": 5e-06,\n        \"max\": 100.0,\n        \"num_unique_values\": 38047,\n        \"samples\": [\n          0.416306086,\n          0.675062411\n        ],\n        \"semantic_type\": \"\",\n        \"description\": \"\"\n      }\n    },\n    {\n      \"column\": \"score_3\",\n      \"properties\": {\n        \"dtype\": \"number\",\n        \"std\": 0.06272486372343226,\n        \"min\": 0.000527265,\n        \"max\": 0.869210801,\n        \"num_unique_values\": 612,\n        \"samples\": [\n          0.420610964,\n          0.168416171\n        ],\n        \"semantic_type\": \"\",\n        \"description\": \"\"\n      }\n    },\n    {\n      \"column\": \"score_social\",\n      \"properties\": {\n        \"dtype\": \"number\",\n        \"std\": 0.0761796573204536,\n        \"min\": 0.0,\n        \"max\": 1.0,\n        \"num_unique_values\": 1459,\n        \"samples\": [\n          0.1674,\n          0.6381\n        ],\n        \"semantic_type\": \"\",\n        \"description\": \"\"\n      }\n    },\n    {\n      \"column\": \"troca_telefone\",\n      \"properties\": {\n        \"dtype\": \"number\",\n        \"std\": 818.1417090553241,\n        \"min\": 0.0,\n        \"max\": 4185.0,\n        \"num_unique_values\": 3408,\n        \"samples\": [\n          966.0,\n          3099.0\n        ],\n        \"semantic_type\": \"\",\n        \"description\": \"\"\n      }\n    },\n    {\n      \"column\": \"inadimplente\",\n      \"properties\": {\n        \"dtype\": \"number\",\n        \"std\": 0,\n        \"min\": 0,\n        \"max\": 1,\n        \"num_unique_values\": 2,\n        \"samples\": [\n          1,\n          0\n        ],\n        \"semantic_type\": \"\",\n        \"description\": \"\"\n      }\n    }\n  ]\n}"
            }
          },
          "metadata": {},
          "execution_count": 14
        }
      ]
    },
    {
      "cell_type": "code",
      "source": [
        "x = dados.drop('inadimplente', axis = 1)\n",
        "y = dados['inadimplente']"
      ],
      "metadata": {
        "id": "ef4aPUAHkyLQ"
      },
      "execution_count": 15,
      "outputs": []
    },
    {
      "cell_type": "code",
      "source": [
        "from sklearn.tree import DecisionTreeClassifier"
      ],
      "metadata": {
        "id": "NKbv-w-3leuU"
      },
      "execution_count": 16,
      "outputs": []
    },
    {
      "cell_type": "code",
      "source": [
        "modelo = DecisionTreeClassifier()\n",
        "modelo.fit(x, y)\n",
        "\n",
        "modelo.score(x, y)"
      ],
      "metadata": {
        "id": "FTipCyhPmQX2",
        "colab": {
          "base_uri": "https://localhost:8080/"
        },
        "outputId": "de976961-12b1-403c-f670-0350484f461f"
      },
      "execution_count": 17,
      "outputs": [
        {
          "output_type": "execute_result",
          "data": {
            "text/plain": [
              "1.0"
            ]
          },
          "metadata": {},
          "execution_count": 17
        }
      ]
    },
    {
      "cell_type": "markdown",
      "source": [
        "## Validando o modelo"
      ],
      "metadata": {
        "id": "swH1Pcql4pa8"
      }
    },
    {
      "cell_type": "markdown",
      "source": [
        "Avaliar os modelo com base nos mesmos dados usados no treinamento não é interessante. É preciso que a avaliação seja feita em dados independentes.\n",
        "\n",
        "Avaliar o modelo nos próprios dados de treinamento seria o análogo a entregar uma prova com as questões e o gabarito para uma pessoa e no momento de avaliá-la novamente, entregar uma prova com as mesmas questões e alternativas. É esperado que essa pessoa se sairá bem por já ter visto as respostas e ter decorado o resultado. Isso é diferente de ter aprendido a matéria a partir daquela prova e depois fazer uma prova com conteúdo parecido e ter um resultado positivo.\n",
        "\n",
        "No intuito de checar a generalização de um modelo, devemos separar o conjunto de dados em 3 partes: dados de treinamento, validação e teste.\n",
        "\n",
        "* o conjunto de treinamento é utilizado para treinar os modelos. Os modelos vão entender o padrão dos dados a partir desse conjunto de dados.\n",
        "\n",
        "* o conjunto de validação é utilizado para avaliar o desempenho de diferentes modelos, com dados novos que não foram usados no treinamento do modelo.\n",
        "\n",
        "* o conjunto de teste fica separado dos demais desde o momento inicial para simular os dados do mundo real. Ele não é utilizado em nenhum momento no treinamento e nem na validação, servindo como uma estimativa da capacidade do modelo escolhido de generalizar e prever novos dados."
      ],
      "metadata": {
        "id": "Rxplh3S64sbM"
      }
    },
    {
      "cell_type": "code",
      "source": [
        "print(f'Acurácia: {modelo.score(x, y) * 100:.2f}%')"
      ],
      "metadata": {
        "id": "_lzOsMZamTZr",
        "colab": {
          "base_uri": "https://localhost:8080/"
        },
        "outputId": "25b38984-8b2d-4fdf-fa72-eb0978325d47"
      },
      "execution_count": 18,
      "outputs": [
        {
          "output_type": "stream",
          "name": "stdout",
          "text": [
            "Acurácia: 100.00%\n"
          ]
        }
      ]
    },
    {
      "cell_type": "code",
      "source": [
        "from sklearn.model_selection import train_test_split"
      ],
      "metadata": {
        "id": "D1j60eFOeY4-"
      },
      "execution_count": 19,
      "outputs": []
    },
    {
      "cell_type": "code",
      "source": [
        "x, x_teste, y, y_teste = train_test_split(x, y, test_size = 0.15, stratify = y, random_state = 5)\n",
        "x_treino, x_val, y_treino, y_val = train_test_split(x, y, stratify = y, random_state = 5)"
      ],
      "metadata": {
        "id": "skhREW05s55_"
      },
      "execution_count": 20,
      "outputs": []
    },
    {
      "cell_type": "code",
      "source": [
        "modelo = DecisionTreeClassifier()\n",
        "modelo.fit(x_treino, y_treino)\n",
        "\n",
        "print(f'Acurácia: {modelo.score(x_treino, y_treino) * 100:.2f}%')\n",
        "print(f'Acurácia de validação: {modelo.score(x_val, y_val) * 100:.2f}%')"
      ],
      "metadata": {
        "colab": {
          "base_uri": "https://localhost:8080/"
        },
        "id": "KfeFJaEat2BG",
        "outputId": "f7f3f8f5-b8c2-41b9-b743-4b9e07e0d4e4"
      },
      "execution_count": 21,
      "outputs": [
        {
          "output_type": "stream",
          "name": "stdout",
          "text": [
            "Acurácia: 100.00%\n",
            "Acurácia de validação: 85.11%\n"
          ]
        }
      ]
    },
    {
      "cell_type": "code",
      "source": [
        "modelo = DecisionTreeClassifier(max_depth=10)\n",
        "modelo.fit(x_treino, y_treino)\n",
        "\n",
        "print(f'Acurácia: {modelo.score(x_treino, y_treino) * 100:.2f}%')\n",
        "print(f'Acurácia de validação: {modelo.score(x_val, y_val) * 100:.2f}%')"
      ],
      "metadata": {
        "colab": {
          "base_uri": "https://localhost:8080/"
        },
        "id": "cR5UCofauky-",
        "outputId": "38747cd3-7a7d-4de6-bc13-93674b89cb19"
      },
      "execution_count": 22,
      "outputs": [
        {
          "output_type": "stream",
          "name": "stdout",
          "text": [
            "Acurácia: 92.06%\n",
            "Acurácia de validação: 90.60%\n"
          ]
        }
      ]
    },
    {
      "cell_type": "markdown",
      "source": [
        "## Avaliando o modelo"
      ],
      "metadata": {
        "id": "hsL_yecow87L"
      }
    },
    {
      "cell_type": "code",
      "source": [
        "from sklearn.metrics import confusion_matrix"
      ],
      "metadata": {
        "id": "kIq-1GT1vH0U"
      },
      "execution_count": 23,
      "outputs": []
    },
    {
      "cell_type": "code",
      "source": [
        "y_previsto = modelo.predict(x_val)\n",
        "matriz_confusao = confusion_matrix(y_val,y_previsto)\n",
        "print(matriz_confusao)"
      ],
      "metadata": {
        "colab": {
          "base_uri": "https://localhost:8080/"
        },
        "id": "YD8HHot_xPi5",
        "outputId": "d2e7361b-a650-4bec-942b-0ff752ce1836"
      },
      "execution_count": 24,
      "outputs": [
        {
          "output_type": "stream",
          "name": "stdout",
          "text": [
            "[[10361   118]\n",
            " [  961    41]]\n"
          ]
        }
      ]
    },
    {
      "cell_type": "code",
      "source": [
        "from sklearn.metrics import ConfusionMatrixDisplay"
      ],
      "metadata": {
        "id": "5uHfqeXhyCTA"
      },
      "execution_count": 25,
      "outputs": []
    },
    {
      "cell_type": "code",
      "source": [
        "visualicao = ConfusionMatrixDisplay(confusion_matrix = matriz_confusao)\n",
        "visualicao.plot();"
      ],
      "metadata": {
        "colab": {
          "base_uri": "https://localhost:8080/",
          "height": 449
        },
        "id": "FXgohk-eyWYl",
        "outputId": "5082ccdf-f723-4b4a-e360-c855ca14f7ce"
      },
      "execution_count": 26,
      "outputs": [
        {
          "output_type": "display_data",
          "data": {
            "text/plain": [
              "<Figure size 640x480 with 2 Axes>"
            ],
            "image/png": "[encoded data removed]"
          },
          "metadata": {}
        }
      ]
    },
    {
      "cell_type": "code",
      "source": [
        "visualicao = ConfusionMatrixDisplay(confusion_matrix = matriz_confusao, display_labels = ['Adimplente', 'Inadimplente'])\n",
        "visualicao.plot();"
      ],
      "metadata": {
        "colab": {
          "base_uri": "https://localhost:8080/",
          "height": 449
        },
        "outputId": "08ae8848-a03d-4e8a-fef8-946a6731eaef",
        "id": "zFFViDxqzRyK"
      },
      "execution_count": 27,
      "outputs": [
        {
          "output_type": "display_data",
          "data": {
            "text/plain": [
              "<Figure size 640x480 with 2 Axes>"
            ],
            "image/png": "[encoded data removed]"
          },
          "metadata": {}
        }
      ]
    },
    {
      "cell_type": "markdown",
      "source": [
        "# Métricas de avaliação"
      ],
      "metadata": {
        "id": "LROKQeNl5A7c"
      }
    },
    {
      "cell_type": "markdown",
      "source": [
        "## Acurácia, precisão e recall"
      ],
      "metadata": {
        "id": "MJAuF_gc5gN9"
      }
    },
    {
      "cell_type": "markdown",
      "source": [
        "![image.png](data:image/png;base64,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)"
      ],
      "metadata": {
        "id": "6vXkkLZp5xf0"
      }
    },
    {
      "cell_type": "code",
      "source": [
        "from sklearn.metrics import accuracy_score"
      ],
      "metadata": {
        "id": "nnwxNDnE53kL"
      },
      "execution_count": 28,
      "outputs": []
    },
    {
      "cell_type": "code",
      "source": [
        "print(f'Acurácia: {accuracy_score(y_val, y_previsto)}')"
      ],
      "metadata": {
        "colab": {
          "base_uri": "https://localhost:8080/"
        },
        "id": "xBFLVrjksj8R",
        "outputId": "6dec730b-c3eb-4891-8542-f5f0e87bd445"
      },
      "execution_count": 29,
      "outputs": [
        {
          "output_type": "stream",
          "name": "stdout",
          "text": [
            "Acurácia: 0.9060186394913335\n"
          ]
        }
      ]
    },
    {
      "cell_type": "code",
      "source": [
        "from sklearn.metrics import precision_score, recall_score"
      ],
      "metadata": {
        "id": "ERat02zftE1C"
      },
      "execution_count": 30,
      "outputs": []
    },
    {
      "cell_type": "code",
      "source": [
        "print(f'Precisão: {precision_score(y_val, y_previsto)}')\n",
        "print(f'Recall: {recall_score(y_val, y_previsto)}')"
      ],
      "metadata": {
        "colab": {
          "base_uri": "https://localhost:8080/"
        },
        "id": "lWUdQ2Oxt4eB",
        "outputId": "3b738ae1-bb2b-4774-a42c-0e70cffab215"
      },
      "execution_count": 31,
      "outputs": [
        {
          "output_type": "stream",
          "name": "stdout",
          "text": [
            "Precisão: 0.2578616352201258\n",
            "Recall: 0.04091816367265469\n"
          ]
        }
      ]
    },
    {
      "cell_type": "code",
      "source": [
        "from sklearn.metrics import f1_score"
      ],
      "metadata": {
        "id": "iz5QXyvbuELp"
      },
      "execution_count": 32,
      "outputs": []
    },
    {
      "cell_type": "code",
      "source": [
        "print(f'F1_score: {f1_score(y_val, y_previsto)}')"
      ],
      "metadata": {
        "colab": {
          "base_uri": "https://localhost:8080/"
        },
        "id": "LfZGq9siuiAT",
        "outputId": "abe1dd16-e589-4120-b295-738cb38d820a"
      },
      "execution_count": 33,
      "outputs": [
        {
          "output_type": "stream",
          "name": "stdout",
          "text": [
            "F1_score: 0.07062876830318691\n"
          ]
        }
      ]
    },
    {
      "cell_type": "markdown",
      "source": [
        "## Curva ROC"
      ],
      "metadata": {
        "id": "4Z2FM05QxcFr"
      }
    },
    {
      "cell_type": "code",
      "source": [
        "from sklearn.metrics import RocCurveDisplay"
      ],
      "metadata": {
        "id": "4bYIkBkcup3L"
      },
      "execution_count": 34,
      "outputs": []
    },
    {
      "cell_type": "code",
      "source": [
        "RocCurveDisplay.from_predictions(y_val, y_previsto, name = 'Árvore de decisão');"
      ],
      "metadata": {
        "colab": {
          "base_uri": "https://localhost:8080/",
          "height": 451
        },
        "id": "qHR5-XQrx9fL",
        "outputId": "f68db81d-a3e4-4066-91c8-7d06d3702548"
      },
      "execution_count": 35,
      "outputs": [
        {
          "output_type": "display_data",
          "data": {
            "text/plain": [
              "<Figure size 640x480 with 1 Axes>"
            ],
            "image/png": "[encoded data removed]"
          },
          "metadata": {}
        }
      ]
    },
    {
      "cell_type": "code",
      "source": [
        "from sklearn.metrics import roc_auc_score"
      ],
      "metadata": {
        "id": "lANd_3ZZyshw"
      },
      "execution_count": 36,
      "outputs": []
    },
    {
      "cell_type": "code",
      "source": [
        "print(f'ROC AUC: {roc_auc_score(y_val, y_previsto)}')"
      ],
      "metadata": {
        "colab": {
          "base_uri": "https://localhost:8080/"
        },
        "id": "TS6YweALzUWR",
        "outputId": "44bfd06c-29eb-47fc-efb0-6155d2c495c2"
      },
      "execution_count": 37,
      "outputs": [
        {
          "output_type": "stream",
          "name": "stdout",
          "text": [
            "ROC AUC: 0.5148287736008087\n"
          ]
        }
      ]
    },
    {
      "cell_type": "markdown",
      "source": [
        "## Curva de precisão x recall"
      ],
      "metadata": {
        "id": "TFu_fXmd154b"
      }
    },
    {
      "cell_type": "code",
      "source": [
        "from sklearn.metrics import PrecisionRecallDisplay"
      ],
      "metadata": {
        "id": "a9C6wAo4zc3k"
      },
      "execution_count": 38,
      "outputs": []
    },
    {
      "cell_type": "code",
      "source": [
        "PrecisionRecallDisplay.from_predictions(y_val, y_previsto, name = 'Árvore de decisão');"
      ],
      "metadata": {
        "colab": {
          "base_uri": "https://localhost:8080/",
          "height": 451
        },
        "id": "RuVeyLib5sOz",
        "outputId": "89eaaff1-ea88-4ee3-b0cf-65f4ab88431f"
      },
      "execution_count": 39,
      "outputs": [
        {
          "output_type": "display_data",
          "data": {
            "text/plain": [
              "<Figure size 640x480 with 1 Axes>"
            ],
            "image/png": "[encoded data removed]"
          },
          "metadata": {}
        }
      ]
    },
    {
      "cell_type": "code",
      "source": [
        "from sklearn.metrics import average_precision_score"
      ],
      "metadata": {
        "id": "FN7epodV54wF"
      },
      "execution_count": 40,
      "outputs": []
    },
    {
      "cell_type": "code",
      "source": [
        "print(f'AP: {average_precision_score(y_val, y_previsto)}')"
      ],
      "metadata": {
        "colab": {
          "base_uri": "https://localhost:8080/"
        },
        "id": "NXQKzpSd6WbN",
        "outputId": "cbfcfbeb-e51d-4031-972a-b0658c9a8dd6"
      },
      "execution_count": 41,
      "outputs": [
        {
          "output_type": "stream",
          "name": "stdout",
          "text": [
            "AP: 0.0942547347420352\n"
          ]
        }
      ]
    },
    {
      "cell_type": "markdown",
      "source": [
        "## Relatório de métricas"
      ],
      "metadata": {
        "id": "ZY5LPgLN7PFk"
      }
    },
    {
      "cell_type": "code",
      "source": [
        "from sklearn.metrics import classification_report"
      ],
      "metadata": {
        "id": "gOLmVwQ_6moz"
      },
      "execution_count": 42,
      "outputs": []
    },
    {
      "cell_type": "code",
      "source": [
        "print(f'{classification_report(y_val, y_previsto)}')"
      ],
      "metadata": {
        "colab": {
          "base_uri": "https://localhost:8080/"
        },
        "id": "8hAU1mcY7XdA",
        "outputId": "e342e806-3aa7-443b-d8ee-4b9814bc3a6b"
      },
      "execution_count": 49,
      "outputs": [
        {
          "output_type": "stream",
          "name": "stdout",
          "text": [
            "              precision    recall  f1-score   support\n",
            "\n",
            "           0       0.92      0.99      0.95     10479\n",
            "           1       0.26      0.04      0.07      1002\n",
            "\n",
            "    accuracy                           0.91     11481\n",
            "   macro avg       0.59      0.51      0.51     11481\n",
            "weighted avg       0.86      0.91      0.87     11481\n",
            "\n"
          ]
        }
      ]
    },
    {
      "cell_type": "markdown",
      "source": [
        "# Validação cruzada"
      ],
      "metadata": {
        "id": "buskyJ-5Avl2"
      }
    },
    {
      "cell_type": "markdown",
      "source": [
        "## Usando o KFold"
      ],
      "metadata": {
        "id": "B1l5GbEHAxsc"
      }
    },
    {
      "cell_type": "markdown",
      "source": [
        "A validação do modelo de classificação a partir da separação dos dados em conjunto de treino e validação faz com que o resultado seja muito dependente dessa divisão dos dados e pode ser que, de forma aleatória, o padrão dos dados de validação sejam diferentes do padrão dos dados de treinamento, levando a sorte de ter um resultado muito melhor do que a realidade ou o azar de um resultado muito pior do que a realidade.\n",
        "\n",
        "Levando isso em consideração, é possível utilizar a validação cruzada, uma estratégia mais consistente e bem mais utilizada nos projetos de machine learning.\n",
        "\n",
        "Na validação cruzada, ao invés de separarmos os dados em apenas treino e validação uma única vez, dividimos os dados em várias partes de mesmo tamanho. Em cada uma dessas divisões, será utilizada uma parte para validação e todas as outras para treinamento e o processo se repete até que todas as partes sejam utilizadas para validação e o restante para treinamento.\n",
        "\n",
        "Será gerado um modelo para cada uma dessas divisões e a avaliação de desempenho será feita tirando a média da métrica de cada modelo. Isso faz com que a dependência da separação dos dados seja eliminada, já que há uma variação maior da escolha dos dados e é retirada uma média.\n",
        "\n",
        "Geralmente são utilizadas 5 ou 10 partes, mais do que isso não é tão necessário porque necessita de um processamento maior e valores menores já mitiga o problema da escolha dos dados."
      ],
      "metadata": {
        "id": "-dKecExaA357"
      }
    },
    {
      "cell_type": "markdown",
      "source": [
        "![image.png](data:image/png;base64,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)"
      ],
      "metadata": {
        "id": "2pfqXQJeBCnD"
      }
    },
    {
      "cell_type": "code",
      "source": [
        "from sklearn.model_selection import cross_validate, KFold"
      ],
      "metadata": {
        "id": "YJRstopF7gJ8"
      },
      "execution_count": 50,
      "outputs": []
    },
    {
      "cell_type": "code",
      "source": [
        "modelo = DecisionTreeClassifier(max_depth = 10)\n",
        "kf = KFold(n_splits = 5, shuffle = True, random_state = 5)\n",
        "cv_resultado = cross_validate(modelo, x, y, cv = kf)\n",
        "cv_resultado"
      ],
      "metadata": {
        "colab": {
          "base_uri": "https://localhost:8080/"
        },
        "id": "JR7gv1EDB3bd",
        "outputId": "03edbf41-507e-4201-e212-d3fc5e170ae3"
      },
      "execution_count": 51,
      "outputs": [
        {
          "output_type": "execute_result",
          "data": {
            "text/plain": [
              "{'fit_time': array([0.2439816 , 0.24823356, 0.23961639, 0.23814082, 0.23548126]),\n",
              " 'score_time': array([0.00341821, 0.00491166, 0.00313711, 0.00312591, 0.00317955]),\n",
              " 'test_score': array([0.91377246, 0.90799216, 0.90755662, 0.91343641, 0.89993467])}"
            ]
          },
          "metadata": {},
          "execution_count": 51
        }
      ]
    },
    {
      "cell_type": "code",
      "source": [
        "cv_resultado['test_score']"
      ],
      "metadata": {
        "colab": {
          "base_uri": "https://localhost:8080/"
        },
        "id": "J9llZCvVC6rl",
        "outputId": "899e1fe5-30df-4a89-8b3e-5d00556a688b"
      },
      "execution_count": 52,
      "outputs": [
        {
          "output_type": "execute_result",
          "data": {
            "text/plain": [
              "array([0.91377246, 0.90799216, 0.90755662, 0.91343641, 0.89993467])"
            ]
          },
          "metadata": {},
          "execution_count": 52
        }
      ]
    },
    {
      "cell_type": "code",
      "source": [
        "media = cv_resultado['test_score'].mean()\n",
        "desvio_padrao = cv_resultado['test_score'].std()\n",
        "print(f'Intervalo de confiança: [{media - 2*desvio_padrao}, {min(media + 2*desvio_padrao, 1)}]')"
      ],
      "metadata": {
        "colab": {
          "base_uri": "https://localhost:8080/"
        },
        "id": "ToQMNToFDXDB",
        "outputId": "358b4e43-0b54-4a58-8ed0-abb1d4a06a7d"
      },
      "execution_count": 55,
      "outputs": [
        {
          "output_type": "stream",
          "name": "stdout",
          "text": [
            "Intervalo de confiança: [0.8984717932837741, 0.918605133003025]\n"
          ]
        }
      ]
    },
    {
      "cell_type": "markdown",
      "source": [
        "## Validação cruzada com recall"
      ],
      "metadata": {
        "id": "INWfHsnpGS58"
      }
    },
    {
      "cell_type": "code",
      "source": [
        "def intervalo_conf(resultado):\n",
        "    media = resultado['test_score'].mean()\n",
        "    desvio_padrao = resultado['test_score'].std()\n",
        "    print(f'Intervalo de confiança: [{media - 2*desvio_padrao}, {min(media + 2*desvio_padrao, 1)}]')"
      ],
      "metadata": {
        "id": "pkBZwJURDkkP"
      },
      "execution_count": 59,
      "outputs": []
    },
    {
      "cell_type": "code",
      "source": [
        "modelo = DecisionTreeClassifier(max_depth = 10)\n",
        "kf = KFold(n_splits = 5, shuffle = True, random_state = 5)\n",
        "cv_resultados = cross_validate(modelo, x, y, cv = kf, scoring = 'recall')\n",
        "cv_resultados"
      ],
      "metadata": {
        "colab": {
          "base_uri": "https://localhost:8080/"
        },
        "id": "FJdvRRShG2pY",
        "outputId": "8c39c72a-ea14-4f83-ef11-9ace34fa2a49"
      },
      "execution_count": 60,
      "outputs": [
        {
          "output_type": "execute_result",
          "data": {
            "text/plain": [
              "{'fit_time': array([0.24061418, 0.24865508, 0.23272467, 0.24278665, 0.24075341]),\n",
              " 'score_time': array([0.00548339, 0.00550866, 0.00530791, 0.00526929, 0.00545382]),\n",
              " 'test_score': array([0.02642008, 0.01856436, 0.0196802 , 0.01827676, 0.02427746])}"
            ]
          },
          "metadata": {},
          "execution_count": 60
        }
      ]
    },
    {
      "cell_type": "code",
      "source": [
        "intervalo_conf(cv_resultados)"
      ],
      "metadata": {
        "colab": {
          "base_uri": "https://localhost:8080/"
        },
        "id": "5GMXatMBHIyX",
        "outputId": "347760c9-04e2-4d1c-8815-0109fb5f67b4"
      },
      "execution_count": 61,
      "outputs": [
        {
          "output_type": "stream",
          "name": "stdout",
          "text": [
            "Intervalo de confiança: [0.014857446060308789, 0.028030094558625998]\n"
          ]
        }
      ]
    },
    {
      "cell_type": "markdown",
      "source": [
        "## Estratificando os dados"
      ],
      "metadata": {
        "id": "YhwAtByKJo60"
      }
    },
    {
      "cell_type": "code",
      "source": [
        "dados['inadimplente'].value_counts(normalize = True)"
      ],
      "metadata": {
        "colab": {
          "base_uri": "https://localhost:8080/",
          "height": 178
        },
        "id": "u0_GGZHRHQJJ",
        "outputId": "70e09a3f-4b33-4c0b-c89d-5a86cb8bce6a"
      },
      "execution_count": 62,
      "outputs": [
        {
          "output_type": "execute_result",
          "data": {
            "text/plain": [
              "inadimplente\n",
              "0    0.912707\n",
              "1    0.087293\n",
              "Name: proportion, dtype: float64"
            ],
            "text/html": [
              "<div>\n",
              "<style scoped>\n",
              "    .dataframe tbody tr th:only-of-type {\n",
              "        vertical-align: middle;\n",
              "    }\n",
              "\n",
              "    .dataframe tbody tr th {\n",
              "        vertical-align: top;\n",
              "    }\n",
              "\n",
              "    .dataframe thead th {\n",
              "        text-align: right;\n",
              "    }\n",
              "</style>\n",
              "<table border=\"1\" class=\"dataframe\">\n",
              "  <thead>\n",
              "    <tr style=\"text-align: right;\">\n",
              "      <th></th>\n",
              "      <th>proportion</th>\n",
              "    </tr>\n",
              "    <tr>\n",
              "      <th>inadimplente</th>\n",
              "      <th></th>\n",
              "    </tr>\n",
              "  </thead>\n",
              "  <tbody>\n",
              "    <tr>\n",
              "      <th>0</th>\n",
              "      <td>0.912707</td>\n",
              "    </tr>\n",
              "    <tr>\n",
              "      <th>1</th>\n",
              "      <td>0.087293</td>\n",
              "    </tr>\n",
              "  </tbody>\n",
              "</table>\n",
              "</div><br><label><b>dtype:</b> float64</label>"
            ]
          },
          "metadata": {},
          "execution_count": 62
        }
      ]
    },
    {
      "cell_type": "code",
      "source": [
        "from sklearn.model_selection import StratifiedKFold"
      ],
      "metadata": {
        "id": "OK9orD04JxQG"
      },
      "execution_count": 63,
      "outputs": []
    },
    {
      "cell_type": "code",
      "source": [
        "modelo = DecisionTreeClassifier(max_depth = 10)\n",
        "skf = StratifiedKFold(n_splits = 5, shuffle = True, random_state = 5)\n",
        "cv_resultados = cross_validate(modelo, x, y, cv = skf, scoring = 'recall')"
      ],
      "metadata": {
        "id": "BjpdTIV8KFcU"
      },
      "execution_count": 64,
      "outputs": []
    },
    {
      "cell_type": "code",
      "source": [
        "intervalo_conf(cv_resultados)"
      ],
      "metadata": {
        "colab": {
          "base_uri": "https://localhost:8080/"
        },
        "id": "bUCPVupvKIqc",
        "outputId": "23464ac9-aecd-454c-9853-5e1aa31e0cc8"
      },
      "execution_count": 65,
      "outputs": [
        {
          "output_type": "stream",
          "name": "stdout",
          "text": [
            "Intervalo de confiança: [0.01977052511416421, 0.03909541864068088]\n"
          ]
        }
      ]
    },
    {
      "cell_type": "markdown",
      "source": [
        "# Balanceamento de dados"
      ],
      "metadata": {
        "id": "TnKLtEGvNzM9"
      }
    },
    {
      "cell_type": "markdown",
      "source": [
        "## Oversampling"
      ],
      "metadata": {
        "id": "AUasC96aN35e"
      }
    },
    {
      "cell_type": "code",
      "source": [
        "from imblearn.over_sampling import SMOTE"
      ],
      "metadata": {
        "id": "bHUMeGu7KNh1"
      },
      "execution_count": 66,
      "outputs": []
    },
    {
      "cell_type": "code",
      "source": [
        "oversample = SMOTE()\n",
        "x_balanceado, y_balanceado = oversample.fit_resample(x, y)"
      ],
      "metadata": {
        "id": "BdjwGQ_oOEaE"
      },
      "execution_count": 67,
      "outputs": []
    },
    {
      "cell_type": "code",
      "source": [
        "y_balanceado.value_counts(normalize = True)"
      ],
      "metadata": {
        "colab": {
          "base_uri": "https://localhost:8080/",
          "height": 178
        },
        "id": "nj-lxqyYdDwt",
        "outputId": "26a487ca-7301-4703-988a-b8003c7a15ba"
      },
      "execution_count": 68,
      "outputs": [
        {
          "output_type": "execute_result",
          "data": {
            "text/plain": [
              "inadimplente\n",
              "0    0.5\n",
              "1    0.5\n",
              "Name: proportion, dtype: float64"
            ],
            "text/html": [
              "<div>\n",
              "<style scoped>\n",
              "    .dataframe tbody tr th:only-of-type {\n",
              "        vertical-align: middle;\n",
              "    }\n",
              "\n",
              "    .dataframe tbody tr th {\n",
              "        vertical-align: top;\n",
              "    }\n",
              "\n",
              "    .dataframe thead th {\n",
              "        text-align: right;\n",
              "    }\n",
              "</style>\n",
              "<table border=\"1\" class=\"dataframe\">\n",
              "  <thead>\n",
              "    <tr style=\"text-align: right;\">\n",
              "      <th></th>\n",
              "      <th>proportion</th>\n",
              "    </tr>\n",
              "    <tr>\n",
              "      <th>inadimplente</th>\n",
              "      <th></th>\n",
              "    </tr>\n",
              "  </thead>\n",
              "  <tbody>\n",
              "    <tr>\n",
              "      <th>0</th>\n",
              "      <td>0.5</td>\n",
              "    </tr>\n",
              "    <tr>\n",
              "      <th>1</th>\n",
              "      <td>0.5</td>\n",
              "    </tr>\n",
              "  </tbody>\n",
              "</table>\n",
              "</div><br><label><b>dtype:</b> float64</label>"
            ]
          },
          "metadata": {},
          "execution_count": 68
        }
      ]
    },
    {
      "cell_type": "code",
      "source": [
        "modelo = DecisionTreeClassifier(max_depth = 10)\n",
        "skf = StratifiedKFold(n_splits = 5, shuffle = True, random_state = 5)\n",
        "cv_resultados = cross_validate(modelo, x_balanceado, y_balanceado, cv = skf, scoring = 'recall')"
      ],
      "metadata": {
        "id": "ECJ2Um_-dPuB"
      },
      "execution_count": 69,
      "outputs": []
    },
    {
      "cell_type": "code",
      "source": [
        "intervalo_conf(cv_resultados)"
      ],
      "metadata": {
        "colab": {
          "base_uri": "https://localhost:8080/"
        },
        "id": "75fSDKjQdrPU",
        "outputId": "ae24629e-f48b-4187-b98a-70eb82cf7897"
      },
      "execution_count": 70,
      "outputs": [
        {
          "output_type": "stream",
          "name": "stdout",
          "text": [
            "Intervalo de confiança: [0.6898787648481254, 0.7383033911912144]\n"
          ]
        }
      ]
    },
    {
      "cell_type": "markdown",
      "source": [
        "## Pipeline para validação"
      ],
      "metadata": {
        "id": "pZ5CQncsOCOV"
      }
    },
    {
      "cell_type": "code",
      "source": [
        "from imblearn.pipeline import Pipeline as imbpipeline"
      ],
      "metadata": {
        "id": "G0BMifVyOEGe"
      },
      "execution_count": 71,
      "outputs": []
    },
    {
      "cell_type": "code",
      "source": [
        "modelo = DecisionTreeClassifier(max_depth = 10)\n",
        "pipeline = imbpipeline([('oversample', SMOTE()), ('arvore', modelo)])"
      ],
      "metadata": {
        "id": "HkWkjyDGOD-N"
      },
      "execution_count": 72,
      "outputs": []
    },
    {
      "cell_type": "code",
      "source": [
        "skf = StratifiedKFold(n_splits=5, shuffle = True, random_state = 5)\n",
        "cv_resultados = cross_validate(pipeline, x, y, cv=skf, scoring = 'recall')"
      ],
      "metadata": {
        "id": "BoZdMeyZixNX"
      },
      "execution_count": 73,
      "outputs": []
    },
    {
      "cell_type": "code",
      "source": [
        "intervalo_conf(cv_resultados)"
      ],
      "metadata": {
        "colab": {
          "base_uri": "https://localhost:8080/"
        },
        "id": "KVHyObl-i0w9",
        "outputId": "acf64f50-5251-4817-f427-aab7f40ba016"
      },
      "execution_count": 74,
      "outputs": [
        {
          "output_type": "stream",
          "name": "stdout",
          "text": [
            "Intervalo de confiança: [0.21576310168842067, 0.2946020590676168]\n"
          ]
        }
      ]
    },
    {
      "cell_type": "markdown",
      "source": [
        "## Undersampling"
      ],
      "metadata": {
        "id": "DX0qTS3hOE4F"
      }
    },
    {
      "cell_type": "code",
      "source": [
        "from imblearn.under_sampling import NearMiss"
      ],
      "metadata": {
        "id": "KWVmVirFOJFV"
      },
      "execution_count": 75,
      "outputs": []
    },
    {
      "cell_type": "code",
      "source": [
        "modelo = DecisionTreeClassifier(max_depth = 10)\n",
        "pipeline = imbpipeline([('undersample', NearMiss(version=3)), ('arvore', modelo)])\n",
        "skf = StratifiedKFold(n_splits=5, shuffle = True, random_state = 5)\n",
        "cv_resultados = cross_validate(pipeline, x, y, cv=skf, scoring = 'recall')"
      ],
      "metadata": {
        "id": "xAiLkOMKOI9s"
      },
      "execution_count": 76,
      "outputs": []
    },
    {
      "cell_type": "code",
      "source": [
        "intervalo_conf(cv_resultados)"
      ],
      "metadata": {
        "colab": {
          "base_uri": "https://localhost:8080/"
        },
        "id": "0vu51tQCjujP",
        "outputId": "e2a17c61-0400-449d-cd3d-a3d0481ef5e3"
      },
      "execution_count": 77,
      "outputs": [
        {
          "output_type": "stream",
          "name": "stdout",
          "text": [
            "Intervalo de confiança: [0.6232977520637544, 0.7012043509807566]\n"
          ]
        }
      ]
    },
    {
      "cell_type": "markdown",
      "source": [
        "## Testando o modelo"
      ],
      "metadata": {
        "id": "aBrdqj5DOJ89"
      }
    },
    {
      "cell_type": "code",
      "source": [
        "undersample = NearMiss(version=3)\n",
        "x_balanceado, y_balanceado = undersample.fit_resample(x, y)"
      ],
      "metadata": {
        "id": "2vZvG39xOOW0"
      },
      "execution_count": 78,
      "outputs": []
    },
    {
      "cell_type": "code",
      "source": [
        "modelo = DecisionTreeClassifier(max_depth = 10)\n",
        "modelo.fit(x_balanceado, y_balanceado)\n",
        "y_previsto = modelo.predict(x_teste)"
      ],
      "metadata": {
        "id": "LOKu3aKVOOLV"
      },
      "execution_count": 79,
      "outputs": []
    },
    {
      "cell_type": "code",
      "source": [
        "print(classification_report(y_teste, y_previsto))"
      ],
      "metadata": {
        "colab": {
          "base_uri": "https://localhost:8080/"
        },
        "id": "wfPunkUTlCSh",
        "outputId": "9bdfc38a-2df5-4268-c13f-298087980ff5"
      },
      "execution_count": 80,
      "outputs": [
        {
          "output_type": "stream",
          "name": "stdout",
          "text": [
            "              precision    recall  f1-score   support\n",
            "\n",
            "           0       0.94      0.48      0.64      7397\n",
            "           1       0.11      0.70      0.20       707\n",
            "\n",
            "    accuracy                           0.50      8104\n",
            "   macro avg       0.53      0.59      0.42      8104\n",
            "weighted avg       0.87      0.50      0.60      8104\n",
            "\n"
          ]
        }
      ]
    },
    {
      "cell_type": "code",
      "source": [
        "ConfusionMatrixDisplay.from_predictions(y_teste, y_previsto);"
      ],
      "metadata": {
        "colab": {
          "base_uri": "https://localhost:8080/",
          "height": 449
        },
        "id": "xDl1DgXHlGNp",
        "outputId": "478c2543-2b83-43e0-a94c-8e474d5aeeae"
      },
      "execution_count": 81,
      "outputs": [
        {
          "output_type": "display_data",
          "data": {
            "text/plain": [
              "<Figure size 640x480 with 2 Axes>"
            ],
            "image/png": "[encoded data removed]"
          },
          "metadata": {}
        }
      ]
    }
  ]
}